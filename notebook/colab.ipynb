{
 "cells": [
  {
   "cell_type": "markdown",
   "metadata": {},
   "source": [
    "## Mount Google Drive"
   ]
  },
  {
   "cell_type": "code",
   "execution_count": null,
   "metadata": {},
   "outputs": [],
   "source": [
    "from google.colab import drive\n",
    "drive.mount('/content/drive')\n",
    "\n",
    "import os\n",
    "os.chdir('/content/drive/MyDrive')"
   ]
  },
  {
   "cell_type": "markdown",
   "metadata": {},
   "source": [
    "## Refresh Colab"
   ]
  },
  {
   "cell_type": "code",
   "execution_count": null,
   "metadata": {},
   "outputs": [],
   "source": [
    "import pyautogui\n",
    "import time\n",
    "\n",
    "running_hour = 3\n",
    "interval_min = 10\n",
    "\n",
    "pyautogui.click(x=533, y=738)\n",
    "pyautogui.click(button='left')\n",
    "\n",
    "for _ in range(running_hour*60//interval_min):\n",
    "    pyautogui.press(['esc', 'b'])\n",
    "    pyautogui.typewrite('Refresh', interval=0.25)\n",
    "    time.sleep(interval_min*60)"
   ]
  },
  {
   "cell_type": "markdown",
   "metadata": {},
   "source": [
    "## [Remote SSH](https://dacon.io/forum/406050)"
   ]
  },
  {
   "cell_type": "code",
   "execution_count": null,
   "metadata": {},
   "outputs": [],
   "source": [
    "# Install cloudflared on terminal\n",
    "# brew install cloudflare/cloudflare/cloudflared\n",
    "\n",
    "# Install colab_ssh on google colab \n",
    "!pip install colab_ssh --upgrade \n",
    "\n",
    "from colab_ssh import launch_ssh_cloudflared, init_git_cloudflared \n",
    "launch_ssh_cloudflared(password=\"test\")"
   ]
  },
  {
   "cell_type": "code",
   "execution_count": null,
   "metadata": {},
   "outputs": [],
   "source": []
  }
 ],
 "metadata": {
  "language_info": {
   "name": "python"
  },
  "orig_nbformat": 4
 },
 "nbformat": 4,
 "nbformat_minor": 2
}
