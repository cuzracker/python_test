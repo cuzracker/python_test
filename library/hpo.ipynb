{
 "cells": [
  {
   "cell_type": "markdown",
   "metadata": {},
   "source": [
    "# HPO with Optuna"
   ]
  },
  {
   "cell_type": "code",
   "execution_count": null,
   "metadata": {},
   "outputs": [],
   "source": [
    "import warnings\n",
    "warnings.filterwarnings(\"ignore\")\n",
    "\n",
    "import numpy as np\n",
    "from typing import List\n",
    "\n",
    "import optuna\n",
    "from optuna import Trial\n",
    "\n",
    "from data import load_data"
   ]
  },
  {
   "cell_type": "markdown",
   "metadata": {},
   "source": [
    "## Import Classifiers"
   ]
  },
  {
   "cell_type": "code",
   "execution_count": null,
   "metadata": {},
   "outputs": [],
   "source": [
    "from sklearn.metrics import accuracy_score\n",
    "from sklearn.linear_model import LogisticRegression\n",
    "from sklearn.neighbors import KNeighborsClassifier\n",
    "from sklearn.svm import SVC\n",
    "from sklearn.tree import DecisionTreeClassifier\n",
    "from sklearn.ensemble import GradientBoostingClassifier, ExtraTreesClassifier, RandomForestClassifier\n",
    "from sklearn.naive_bayes import BernoulliNB\n",
    "from xgboost import XGBClassifier\n",
    "from lightgbm.sklearn import LGBMClassifier\n",
    "from catboost import CatBoostClassifier\n",
    "\n",
    "METRIC = accuracy_score\n",
    "METRIC_NAME = 'Accuracy'\n",
    "DIRECTION = 'maximize'"
   ]
  },
  {
   "cell_type": "markdown",
   "metadata": {},
   "source": [
    "## Import Regressors"
   ]
  },
  {
   "cell_type": "code",
   "execution_count": null,
   "metadata": {},
   "outputs": [],
   "source": [
    "# from sklearn.metrics import mean_squared_error\n",
    "# from sklearn.linear_model import BayesianRidge, ElasticNet, OrthogonalMatchingPursuit\n",
    "# from sklearn.ensemble import GradientBoostingRegressor, ExtraTreesRegressor, RandomForestRegressor\n",
    "# from xgboost import XGBRegressor\n",
    "# from lightgbm import LGBMRegressor\n",
    "# from catboost import CatBoostRegressor\n",
    "\n",
    "# METRIC = mean_squared_error\n",
    "# METRIC_NAME = 'MSE'\n",
    "# DIRECTION = 'minimize'"
   ]
  },
  {
   "cell_type": "markdown",
   "metadata": {},
   "source": [
    "## Load Data"
   ]
  },
  {
   "cell_type": "code",
   "execution_count": null,
   "metadata": {},
   "outputs": [],
   "source": [
    "x_train, x_test, y_train, y_test = load_data()\n",
    "print(x_train.shape, x_test.shape, y_train.shape, y_test.shape)"
   ]
  },
  {
   "cell_type": "markdown",
   "metadata": {},
   "source": [
    "## Optuna"
   ]
  },
  {
   "cell_type": "code",
   "execution_count": null,
   "metadata": {},
   "outputs": [],
   "source": [
    "def make_params(trial: Trial, keys: List[str]):\n",
    "    params = dict()\n",
    "    params['n_estimators'] = trial.suggest_int('n_estimators',100,2000,10) if 'n_estimators' in keys else None\n",
    "    params['max_depth'] = trial.suggest_int('max_depth',2,16) if 'max_depth' in keys else None\n",
    "    params['learning_rate'] = trial.suggest_categorical('learning_rate',[0.001,0.01,1]) if 'learning_rate' in keys else None\n",
    "    params['subsample'] = trial.suggest_categorical('subsample',[0.5,0.75,1]) if 'subsample' in keys else None\n",
    "    params['n_neighbors'] = trial.suggest_int('n_neighbors',2,50) if 'n_neighbors' in keys else None\n",
    "    params['C'] = trial.suggest_categorical('C',[1,10,100,1000]) if 'C' in keys else None\n",
    "    params['gamma'] = trial.suggest_categorical('gamma',[1e-1,1e-2,1e-3,1e-4]) if 'gamma' in keys else None\n",
    "    params.update({\n",
    "        'criterion': 'absolute_error',\n",
    "        'random_state': 0,\n",
    "        'seed': 0,\n",
    "        'verbose': 0,\n",
    "        'verbosity': 0,\n",
    "    })\n",
    "    return {key:value for key,value in params.items() if key in keys}"
   ]
  },
  {
   "cell_type": "code",
   "execution_count": null,
   "metadata": {},
   "outputs": [],
   "source": [
    "def objective(trial: Trial, model: any, keys: List[str]) -> float:\n",
    "    params = make_params(trial, keys)\n",
    "    model = model(**params)\n",
    "    model.fit(x_train, y_train)\n",
    "    y_pred = model.predict(x_test)\n",
    "    return METRIC(y_test, y_pred)"
   ]
  },
  {
   "cell_type": "code",
   "execution_count": null,
   "metadata": {},
   "outputs": [],
   "source": [
    "def print_result(study: optuna.study.Study):\n",
    "    trial = study.best_trial\n",
    "    print(f'{METRIC_NAME}:', trial.value)\n",
    "    print('Best Hyperparameters:', trial.params)"
   ]
  },
  {
   "cell_type": "markdown",
   "metadata": {},
   "source": [
    "## XGBoost"
   ]
  },
  {
   "cell_type": "code",
   "execution_count": null,
   "metadata": {},
   "outputs": [],
   "source": [
    "def objective_xgb(trial: Trial):\n",
    "    keys = ['n_estimators','max_depth','seed','verbosity']\n",
    "    return objective(trial, XGBClassifier, keys)\n",
    "\n",
    "study_xgb = optuna.create_study(direction=DIRECTION)\n",
    "study_xgb.optimize(objective_xgb, n_trials=100)"
   ]
  },
  {
   "cell_type": "code",
   "execution_count": null,
   "metadata": {},
   "outputs": [],
   "source": [
    "print_result(study_xgb)"
   ]
  },
  {
   "cell_type": "markdown",
   "metadata": {},
   "source": [
    "## LightGBM"
   ]
  },
  {
   "cell_type": "code",
   "execution_count": null,
   "metadata": {},
   "outputs": [],
   "source": [
    "def objective_lgbm(trial: Trial):\n",
    "    keys = ['n_estimators','max_depth','random_state']\n",
    "    return objective(trial, LGBMClassifier, keys)\n",
    "\n",
    "study_lgbm = optuna.create_study(direction=DIRECTION)\n",
    "study_lgbm.optimize(objective_lgbm, n_trials=100)"
   ]
  },
  {
   "cell_type": "code",
   "execution_count": null,
   "metadata": {},
   "outputs": [],
   "source": [
    "print_result(study_lgbm)"
   ]
  },
  {
   "cell_type": "markdown",
   "metadata": {},
   "source": [
    "## CatBoost"
   ]
  },
  {
   "cell_type": "code",
   "execution_count": null,
   "metadata": {},
   "outputs": [],
   "source": [
    "def objective_cat(trial: Trial):\n",
    "    keys = ['n_estimators','max_depth','random_state','verbose']\n",
    "    return objective(trial, CatBoostClassifier, keys)\n",
    "\n",
    "study_cat = optuna.create_study(direction=DIRECTION)\n",
    "study_cat.optimize(objective_cat, n_trials=100)"
   ]
  },
  {
   "cell_type": "code",
   "execution_count": null,
   "metadata": {},
   "outputs": [],
   "source": [
    "print_result(study_cat)"
   ]
  },
  {
   "cell_type": "markdown",
   "metadata": {},
   "source": [
    "## Gradient Boosting"
   ]
  },
  {
   "cell_type": "code",
   "execution_count": null,
   "metadata": {},
   "outputs": [],
   "source": [
    "def objective_gbr(trial: Trial):\n",
    "    keys = ['n_estimators','max_depth','learning_rate','subsample','random_state']\n",
    "    return objective(trial, GradientBoostingClassifier, keys)\n",
    "\n",
    "study_gbr = optuna.create_study(direction=DIRECTION)\n",
    "study_gbr.optimize(objective_gbr, n_trials=100)"
   ]
  },
  {
   "cell_type": "code",
   "execution_count": null,
   "metadata": {},
   "outputs": [],
   "source": [
    "print_result(study_gbr)"
   ]
  },
  {
   "cell_type": "markdown",
   "metadata": {},
   "source": [
    "## Extra Trees"
   ]
  },
  {
   "cell_type": "code",
   "execution_count": null,
   "metadata": {},
   "outputs": [],
   "source": [
    "def objective_et(trial: Trial):\n",
    "    keys = ['n_estimators','max_depth','random_state']\n",
    "    return objective(trial, ExtraTreesClassifier, keys)\n",
    "\n",
    "study_et = optuna.create_study(direction=DIRECTION)\n",
    "study_et.optimize(objective_et, n_trials=100)"
   ]
  },
  {
   "cell_type": "code",
   "execution_count": null,
   "metadata": {},
   "outputs": [],
   "source": [
    "print_result(study_et)"
   ]
  },
  {
   "cell_type": "markdown",
   "metadata": {},
   "source": [
    "## Random Forest"
   ]
  },
  {
   "cell_type": "code",
   "execution_count": null,
   "metadata": {},
   "outputs": [],
   "source": [
    "def objective_rf(trial: Trial):\n",
    "    keys = ['n_estimators','max_depth','random_state']\n",
    "    return objective(trial, RandomForestClassifier, keys)\n",
    "\n",
    "study_rf = optuna.create_study(direction=DIRECTION)\n",
    "study_rf.optimize(objective_rf, n_trials=100)"
   ]
  },
  {
   "cell_type": "code",
   "execution_count": null,
   "metadata": {},
   "outputs": [],
   "source": [
    "print_result(study_rf)"
   ]
  },
  {
   "cell_type": "markdown",
   "metadata": {},
   "source": [
    "## KNN"
   ]
  },
  {
   "cell_type": "code",
   "execution_count": null,
   "metadata": {},
   "outputs": [],
   "source": [
    "def objective_knn(trial: Trial):\n",
    "    keys = ['n_neighbors']\n",
    "    return objective(trial, KNeighborsClassifier, keys)\n",
    "\n",
    "study_knn = optuna.create_study(direction=DIRECTION)\n",
    "study_knn.optimize(objective_knn, n_trials=49)"
   ]
  },
  {
   "cell_type": "code",
   "execution_count": null,
   "metadata": {},
   "outputs": [],
   "source": [
    "print_result(study_knn)"
   ]
  },
  {
   "cell_type": "markdown",
   "metadata": {},
   "source": [
    "## SVM"
   ]
  },
  {
   "cell_type": "code",
   "execution_count": null,
   "metadata": {},
   "outputs": [],
   "source": [
    "def objective_svm(trial: Trial):\n",
    "    keys = ['C','gamma','random_state']\n",
    "    return objective(trial, SVC, keys)\n",
    "\n",
    "study_svm = optuna.create_study(direction=DIRECTION)\n",
    "study_svm.optimize(objective_svm, n_trials=16)"
   ]
  },
  {
   "cell_type": "code",
   "execution_count": null,
   "metadata": {},
   "outputs": [],
   "source": [
    "print_result(study_svm)"
   ]
  },
  {
   "cell_type": "markdown",
   "metadata": {},
   "source": [
    "## Decision Tree"
   ]
  },
  {
   "cell_type": "code",
   "execution_count": null,
   "metadata": {},
   "outputs": [],
   "source": [
    "def objective_dt(trial: Trial):\n",
    "    keys = ['max_depth','random_state']\n",
    "    return objective(trial, RandomForestClassifier, keys)\n",
    "\n",
    "study_dt = optuna.create_study(direction=DIRECTION)\n",
    "study_dt.optimize(objective_dt, n_trials=100)"
   ]
  },
  {
   "cell_type": "code",
   "execution_count": null,
   "metadata": {},
   "outputs": [],
   "source": [
    "print_result(study_dt)"
   ]
  },
  {
   "cell_type": "code",
   "execution_count": null,
   "metadata": {},
   "outputs": [],
   "source": []
  }
 ],
 "metadata": {
  "kernelspec": {
   "display_name": "Python 3.8.9 ('base')",
   "language": "python",
   "name": "python3"
  },
  "language_info": {
   "codemirror_mode": {
    "name": "ipython",
    "version": 3
   },
   "file_extension": ".py",
   "mimetype": "text/x-python",
   "name": "python",
   "nbconvert_exporter": "python",
   "pygments_lexer": "ipython3",
   "version": "3.8.9"
  },
  "orig_nbformat": 4,
  "vscode": {
   "interpreter": {
    "hash": "c6e433785c256eddf1a97ef126132771859332314632db55c9adf99951004659"
   }
  }
 },
 "nbformat": 4,
 "nbformat_minor": 2
}
